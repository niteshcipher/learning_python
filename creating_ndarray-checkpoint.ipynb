{
 "cells": [
  {
   "cell_type": "code",
   "execution_count": 1,
   "id": "92181afb-ea30-4a81-929f-c7f26b190025",
   "metadata": {},
   "outputs": [
    {
     "name": "stdout",
     "output_type": "stream",
     "text": [
      "1D Array: [1 2 3 4 5]\n",
      "2D Array:\n",
      " [[1 2 3]\n",
      " [4 5 6]]\n"
     ]
    }
   ],
   "source": [
    "import numpy as np\n",
    "\n",
    "#creating a 1d array\n",
    "array_1d = np.array([1,2,3,4,5])\n",
    "print(\"1D Array:\", array_1d)\n",
    "\n",
    "#creating a 2D array\n",
    "array_2d = np.array([[1,2,3],[4,5,6]])\n",
    "print(\"2D Array:\\n\", array_2d)"
   ]
  },
  {
   "cell_type": "code",
   "execution_count": 3,
   "id": "a1ee2203-8a43-423b-a962-f0e442401ed9",
   "metadata": {},
   "outputs": [
    {
     "name": "stdout",
     "output_type": "stream",
     "text": [
      "Array of zeros:\n",
      " [[0. 0. 0. 0.]\n",
      " [0. 0. 0. 0.]\n",
      " [0. 0. 0. 0.]]\n"
     ]
    }
   ],
   "source": [
    "# Create a 3x4 2D array of zeros\n",
    "zeros_array = np.zeros((3, 4))\n",
    "print(\"Array of zeros:\\n\",zeros_array)\n"
   ]
  },
  {
   "cell_type": "code",
   "execution_count": 4,
   "id": "b55a2bc8-8ec2-4bf7-81a8-2078dd0d85a4",
   "metadata": {},
   "outputs": [
    {
     "name": "stdout",
     "output_type": "stream",
     "text": [
      "Array of Ones: [1. 1. 1. 1. 1.]\n"
     ]
    }
   ],
   "source": [
    "# Create a 1D array of  ones\n",
    "ones_array = np.ones(5)\n",
    "print(\"Array of Ones:\",ones_array)"
   ]
  },
  {
   "cell_type": "code",
   "execution_count": 6,
   "id": "5b728325-0f96-4ae4-8b4a-6265efe6014e",
   "metadata": {},
   "outputs": [
    {
     "name": "stdout",
     "output_type": "stream",
     "text": [
      "Range Array: [0 1 2 3 4 5 6 7 8 9]\n"
     ]
    }
   ],
   "source": [
    "#creating an array with calues from 0 to 9\n",
    "range_array = np.arange(10)\n",
    "print(\"Range Array:\", range_array)"
   ]
  },
  {
   "cell_type": "code",
   "execution_count": 8,
   "id": "2f170628-9b1c-4ea8-bafc-f1e9a04fd967",
   "metadata": {},
   "outputs": [
    {
     "name": "stdout",
     "output_type": "stream",
     "text": [
      "Linspace Array: [0.   0.25 0.5  0.75 1.  ]\n"
     ]
    }
   ],
   "source": [
    "#creating an array with 5 evenly spaced values between 0 and 1 \n",
    "linspace_array = np.linspace(0, 1, 5)\n",
    "print(\"Linspace Array:\", linspace_array)"
   ]
  },
  {
   "cell_type": "code",
   "execution_count": 9,
   "id": "0b85910d-4ea1-455a-b290-4f9bb063c11c",
   "metadata": {},
   "outputs": [
    {
     "name": "stdout",
     "output_type": "stream",
     "text": [
      "Shape of array_2d: (2, 3)\n",
      "Shape of array_2d: 6\n"
     ]
    }
   ],
   "source": [
    "print(\"Shape of array_2d:\", array_2d.shape)\n",
    "print(\"Shape of array_2d:\", array_2d.size)"
   ]
  },
  {
   "cell_type": "code",
   "execution_count": 11,
   "id": "bc22b2d4-f0ee-48ac-b4ec-c2849b51cdde",
   "metadata": {},
   "outputs": [
    {
     "name": "stdout",
     "output_type": "stream",
     "text": [
      "Data type of array_2d: int64\n"
     ]
    }
   ],
   "source": [
    "print(\"Data type of array_2d:\", array_2d.dtype)"
   ]
  },
  {
   "cell_type": "code",
   "execution_count": 12,
   "id": "b65dfd98-62bf-486c-a1aa-21f8a3ecc057",
   "metadata": {},
   "outputs": [
    {
     "name": "stdout",
     "output_type": "stream",
     "text": [
      "Element at index 2: 30\n"
     ]
    }
   ],
   "source": [
    "# indexing and slicing ------\n",
    "\n",
    "array_1d = np.array([10,20,30,40,50])\n",
    "#accessing the third element (index2)\n",
    "print(\"Element at index 2:\", array_1d[2])\n"
   ]
  },
  {
   "cell_type": "code",
   "execution_count": 13,
   "id": "bfdf9d2d-14cc-477a-a638-6e684f444400",
   "metadata": {},
   "outputs": [
    {
     "name": "stdout",
     "output_type": "stream",
     "text": [
      "Last element : 50\n",
      "Last second element : 40\n"
     ]
    }
   ],
   "source": [
    "#accessing the last element \n",
    "print(\"Last element :\", array_1d[-1])\n",
    "\n",
    "#accessing the last second element \n",
    "print(\"Last second element :\", array_1d[-2])"
   ]
  },
  {
   "cell_type": "code",
   "execution_count": 15,
   "id": "64e20cdc-3d11-4ca3-ba85-cf2ebadc9ca4",
   "metadata": {},
   "outputs": [
    {
     "name": "stdout",
     "output_type": "stream",
     "text": [
      "Elemnt at (1, 2): 60\n"
     ]
    }
   ],
   "source": [
    "#creating a 2d array \n",
    "array_2d = np.array([[10,20,30],[40,50,60]])\n",
    "\n",
    "#accessing the element at row 1, column 2\n",
    "print(\"Elemnt at (1, 2):\", array_2d[1, 2])"
   ]
  },
  {
   "cell_type": "code",
   "execution_count": 16,
   "id": "d19b7ad4-8817-4c9a-8aa9-9cce04ae7347",
   "metadata": {},
   "outputs": [
    {
     "name": "stdout",
     "output_type": "stream",
     "text": [
      "Second row: [40 50 60]\n",
      "First column: [10 40]\n"
     ]
    }
   ],
   "source": [
    "#accessing the second row\n",
    "print(\"Second row:\", array_2d[1])\n",
    "\n",
    "#accessing the first column\n",
    "print(\"First column:\", array_2d[:, 0])\n"
   ]
  },
  {
   "cell_type": "code",
   "execution_count": 17,
   "id": "d0a39c0b-62bf-4766-8f3c-fe00dd0b7964",
   "metadata": {},
   "outputs": [
    {
     "name": "stdout",
     "output_type": "stream",
     "text": [
      "Elements greater than 30: [40 50 60]\n"
     ]
    }
   ],
   "source": [
    "#boolean indexing\n",
    "boolean_index = array_2d[array_2d> 30]\n",
    "print(\"Elements greater than 30:\", boolean_index)"
   ]
  },
  {
   "cell_type": "code",
   "execution_count": 18,
   "id": "8473608d-dde6-4ef3-93b4-48f770a92afe",
   "metadata": {},
   "outputs": [
    {
     "name": "stdout",
     "output_type": "stream",
     "text": [
      "Element at indices 0 and 2 of the first row: [10 30]\n"
     ]
    }
   ],
   "source": [
    "#Integer array indexing\n",
    "print(\"Element at indices 0 and 2 of the first row:\", array_2d[0,[0,2]])"
   ]
  },
  {
   "cell_type": "code",
   "execution_count": 19,
   "id": "a8836de7-556b-4894-b1e3-8d82859573f0",
   "metadata": {},
   "outputs": [
    {
     "name": "stdout",
     "output_type": "stream",
     "text": [
      "sliced 1D Array (1:4): [20 30 40]\n"
     ]
    }
   ],
   "source": [
    "#Slicing\n",
    "\n",
    "arraay_1d = np.array([10,20,30,40,50])\n",
    "\n",
    "#slicing elements from index 1 to 3\n",
    "slice_1d = array_1d[1:4]\n",
    "print(\"sliced 1D Array (1:4):\", slice_1d)"
   ]
  },
  {
   "cell_type": "code",
   "execution_count": 22,
   "id": "510fb360-c785-4752-9f3e-2850f02ed1ea",
   "metadata": {},
   "outputs": [
    {
     "name": "stdout",
     "output_type": "stream",
     "text": [
      "sliced 1D Array (0:5:2): [10 30 50]\n"
     ]
    }
   ],
   "source": [
    "#slicing elemrnts from index 0 to 4 with a step of 2\n",
    "slice_step_1d = array_1d[0:5:2]\n",
    "print(\"sliced 1D Array (0:5:2):\", slice_step_1d)"
   ]
  },
  {
   "cell_type": "code",
   "execution_count": 25,
   "id": "c345743c-a638-4004-bac0-f6c5a1b89f11",
   "metadata": {},
   "outputs": [
    {
     "name": "stdout",
     "output_type": "stream",
     "text": [
      "Sliced 2D Array:\n",
      " [[10 20]\n",
      " [40 50]]\n"
     ]
    }
   ],
   "source": [
    "#creating a 2D array \n",
    "array_2d = np.array([[10, 20, 30], [40, 50, 60], [70, 80, 90]])\n",
    "\n",
    "#slicing a sub-array from the first two rows and columns\n",
    "slice_2d = array_2d[ :2, :2]\n",
    "print(\"Sliced 2D Array:\\n\", slice_2d)"
   ]
  },
  {
   "cell_type": "code",
   "execution_count": 26,
   "id": "debe2068-e532-43ad-8534-f87059012d6d",
   "metadata": {},
   "outputs": [
    {
     "name": "stdout",
     "output_type": "stream",
     "text": [
      "First two rows:\n",
      " [[10 20 30]\n",
      " [40 50 60]]\n",
      "Last column: [30 60 90]\n"
     ]
    }
   ],
   "source": [
    "# slicing the first two rows \n",
    "rows_2d = array_2d[:2]\n",
    "print(\"First two rows:\\n\", rows_2d)\n",
    "\n",
    "#slicing the last column\n",
    "last_column_2d = array_2d[:, -1]\n",
    "print(\"Last column:\", last_column_2d)"
   ]
  },
  {
   "cell_type": "code",
   "execution_count": 28,
   "id": "fa78c93d-ccff-4413-a190-2dcefb1655d8",
   "metadata": {},
   "outputs": [
    {
     "name": "stdout",
     "output_type": "stream",
     "text": [
      "Every other row:\n",
      " [[10 20 30]\n",
      " [70 80 90]]\n",
      "Every other column:\n",
      " [[10 30]\n",
      " [40 60]\n",
      " [70 90]]\n"
     ]
    }
   ],
   "source": [
    "#slicing every other row\n",
    "step_rows_2d = array_2d[::2]\n",
    "print(\"Every other row:\\n\",step_rows_2d)\n",
    "\n",
    "#slicing every other column\n",
    "step_columns_2d = array_2d[:,::2]\n",
    "print(\"Every other column:\\n\",step_columns_2d)"
   ]
  },
  {
   "cell_type": "code",
   "execution_count": null,
   "id": "c96d4b97-0326-40f9-9c07-d4d96f3b5d3b",
   "metadata": {},
   "outputs": [],
   "source": []
  }
 ],
 "metadata": {
  "kernelspec": {
   "display_name": "Python [conda env:base] *",
   "language": "python",
   "name": "conda-base-py"
  },
  "language_info": {
   "codemirror_mode": {
    "name": "ipython",
    "version": 3
   },
   "file_extension": ".py",
   "mimetype": "text/x-python",
   "name": "python",
   "nbconvert_exporter": "python",
   "pygments_lexer": "ipython3",
   "version": "3.13.5"
  }
 },
 "nbformat": 4,
 "nbformat_minor": 5
}
