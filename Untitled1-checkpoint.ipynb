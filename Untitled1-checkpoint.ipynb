{
 "cells": [
  {
   "cell_type": "code",
   "execution_count": 1,
   "id": "b208087e-58e7-46c0-8655-d5b97dacdd10",
   "metadata": {},
   "outputs": [],
   "source": [
    "# sets\n",
    "\n",
    "empty_sets = {}\n",
    "\n",
    "#fruits\n",
    "\n",
    "fruits = {\"apple\" , \"banana\" , \"mango\"}\n",
    "\n",
    "nubers = {1, 2, 3, 4}"
   ]
  },
  {
   "cell_type": "code",
   "execution_count": 2,
   "id": "206215c9-db41-4a0b-9dec-4b8a24f37305",
   "metadata": {},
   "outputs": [
    {
     "data": {
      "text/plain": [
       "set"
      ]
     },
     "execution_count": 2,
     "metadata": {},
     "output_type": "execute_result"
    }
   ],
   "source": [
    "type(fruits)"
   ]
  },
  {
   "cell_type": "code",
   "execution_count": 3,
   "id": "a6de3d10-777a-48cd-b912-de0e8dfcbe40",
   "metadata": {},
   "outputs": [
    {
     "data": {
      "text/plain": [
       "{'apple', 'banana', 'mango'}"
      ]
     },
     "execution_count": 3,
     "metadata": {},
     "output_type": "execute_result"
    }
   ],
   "source": [
    "fruits = {\"apple\", \"banana\", \"mango\", \"apple\"}\n",
    "\n",
    "fruits"
   ]
  },
  {
   "cell_type": "code",
   "execution_count": 4,
   "id": "b994c172-9a94-4318-bfc0-2d5709100553",
   "metadata": {},
   "outputs": [
    {
     "name": "stdout",
     "output_type": "stream",
     "text": [
      "apple\n",
      "mango\n",
      "banana\n"
     ]
    }
   ],
   "source": [
    "# Access the items of the set\n",
    "\n",
    "for element in fruits:\n",
    "    print(element)"
   ]
  },
  {
   "cell_type": "code",
   "execution_count": 6,
   "id": "5d2fdfbb-5e5a-4f52-a493-06d1c8e898fa",
   "metadata": {},
   "outputs": [],
   "source": [
    "# create a dictionary\n",
    "\n",
    "empty_dict = {}\n",
    "\n",
    "# with values\n",
    "\n",
    "employee = {'name': 'Alice', \n",
    "            'age': 30, \n",
    "            'height': 5.7}"
   ]
  },
  {
   "cell_type": "code",
   "execution_count": 7,
   "id": "87c96b19-6a38-44f8-88c9-eade468b2580",
   "metadata": {},
   "outputs": [
    {
     "data": {
      "text/plain": [
       "{'name': 'Alice', 'age': 30, 'height': 5.7}"
      ]
     },
     "execution_count": 7,
     "metadata": {},
     "output_type": "execute_result"
    }
   ],
   "source": [
    "employee\n"
   ]
  },
  {
   "cell_type": "code",
   "execution_count": 9,
   "id": "3948b0a9-d007-4135-a9ca-4855da083089",
   "metadata": {},
   "outputs": [
    {
     "data": {
      "text/plain": [
       "'Alice'"
      ]
     },
     "execution_count": 9,
     "metadata": {},
     "output_type": "execute_result"
    }
   ],
   "source": [
    "# Access the item\n",
    "\n",
    "employee['name']"
   ]
  },
  {
   "cell_type": "code",
   "execution_count": 10,
   "id": "9de334f6-bd43-4af0-bede-6bc6edfa677f",
   "metadata": {},
   "outputs": [
    {
     "data": {
      "text/plain": [
       "30"
      ]
     },
     "execution_count": 10,
     "metadata": {},
     "output_type": "execute_result"
    }
   ],
   "source": [
    "employee['age']"
   ]
  },
  {
   "cell_type": "code",
   "execution_count": 11,
   "id": "5a2d5888-af9b-4df0-b95a-964274611b1f",
   "metadata": {},
   "outputs": [
    {
     "data": {
      "text/plain": [
       "{'name': 'Alice', 'age': 28, 'height': 5.7}"
      ]
     },
     "execution_count": 11,
     "metadata": {},
     "output_type": "execute_result"
    }
   ],
   "source": [
    "#modify the dictionary\n",
    "\n",
    "employee['age'] = 28\n",
    "\n",
    "employee"
   ]
  },
  {
   "cell_type": "code",
   "execution_count": 12,
   "id": "2158eb00-08fd-4475-91e3-96af1a1aa02e",
   "metadata": {},
   "outputs": [
    {
     "data": {
      "text/plain": [
       "dict_keys(['name', 'age', 'height'])"
      ]
     },
     "execution_count": 12,
     "metadata": {},
     "output_type": "execute_result"
    }
   ],
   "source": [
    "# common operation on dictionary\n",
    "\n",
    "employee.keys()"
   ]
  },
  {
   "cell_type": "code",
   "execution_count": 14,
   "id": "f132428c-c36e-448d-83e0-5c6e5b34e1b0",
   "metadata": {},
   "outputs": [
    {
     "data": {
      "text/plain": [
       "dict_values(['Alice', 28, 5.7])"
      ]
     },
     "execution_count": 14,
     "metadata": {},
     "output_type": "execute_result"
    }
   ],
   "source": [
    "employee.values()"
   ]
  },
  {
   "cell_type": "code",
   "execution_count": 15,
   "id": "2c6ba4f8-c32b-48fb-9c4a-78c16d6194ff",
   "metadata": {},
   "outputs": [
    {
     "data": {
      "text/plain": [
       "dict_items([('name', 'Alice'), ('age', 28), ('height', 5.7)])"
      ]
     },
     "execution_count": 15,
     "metadata": {},
     "output_type": "execute_result"
    }
   ],
   "source": [
    "employee.items()"
   ]
  },
  {
   "cell_type": "code",
   "execution_count": null,
   "id": "9d71c86c-1edd-4565-b916-7c656380fce6",
   "metadata": {},
   "outputs": [],
   "source": []
  }
 ],
 "metadata": {
  "kernelspec": {
   "display_name": "Python [conda env:base] *",
   "language": "python",
   "name": "conda-base-py"
  },
  "language_info": {
   "codemirror_mode": {
    "name": "ipython",
    "version": 3
   },
   "file_extension": ".py",
   "mimetype": "text/x-python",
   "name": "python",
   "nbconvert_exporter": "python",
   "pygments_lexer": "ipython3",
   "version": "3.13.5"
  }
 },
 "nbformat": 4,
 "nbformat_minor": 5
}
