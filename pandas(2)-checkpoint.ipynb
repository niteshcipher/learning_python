{
 "cells": [
  {
   "cell_type": "code",
   "execution_count": 7,
   "id": "f6154829-ec3c-4de9-bf46-6923a663869d",
   "metadata": {},
   "outputs": [
    {
     "name": "stdout",
     "output_type": "stream",
     "text": [
      "<bound method NDFrame.head of    Transaction ID Customer ID              Product  Quantity  Unit Price  \\\n",
      "0       T081F3ED5       C5101            USB Cable         2         199   \n",
      "1       TD7C89FF5       C1868       Wireless Mouse         2         499   \n",
      "2       T41467F06       C2167               Webcam         2         999   \n",
      "3       T8A0362B5       C7245  External Hard Drive         4        3499   \n",
      "4       TFFFC8428       C7775            USB Cable         3         199   \n",
      "..            ...         ...                  ...       ...         ...   \n",
      "95      TC46DC8CF       C5463             Keyboard         5         799   \n",
      "96      T60B18E7B       C5206             Keyboard         2         799   \n",
      "97      TAB45ED90       C3789       Wireless Mouse         4         499   \n",
      "98      TE71A014D       C4261           Smartphone         4       15999   \n",
      "99      TE48D77CC       C9012           Smartphone         2       15999   \n",
      "\n",
      "    Total Price Transaction Date             Name  Age  Gender  \n",
      "0           398       16-07-2025      John Oneill   30    Male  \n",
      "1           998       12-07-2025      John Taylor   62  Female  \n",
      "2          1998       24-06-2025      Lori Murray   35    Male  \n",
      "3         13996       07-07-2025     Sonya Wilson   39  Female  \n",
      "4           597       11-07-2025    Mallory Miles   46    Male  \n",
      "..          ...              ...              ...  ...     ...  \n",
      "95         3995       19-06-2025    Shaun Baldwin   35    Male  \n",
      "96         1598       02-07-2025    Chris Parsons   49    Male  \n",
      "97         1996       16-07-2025     Carolyn Mann   20  Female  \n",
      "98        63996       14-07-2025  Elizabeth Mills   46    Male  \n",
      "99        31998       07-07-2025       Eric Reyes   38  Female  \n",
      "\n",
      "[100 rows x 10 columns]>\n"
     ]
    }
   ],
   "source": [
    "import pandas as pd\n",
    "\n",
    "df = pd.read_csv('mock_transaction_data.csv')\n",
    "print(df.head)\n"
   ]
  },
  {
   "cell_type": "code",
   "execution_count": 9,
   "id": "31be3755-c160-4015-aa39-e2b6ffa4027d",
   "metadata": {},
   "outputs": [
    {
     "name": "stdout",
     "output_type": "stream",
     "text": [
      "First few rows of merged dataframe:\n",
      "  Transaction ID Customer ID              Product  Quantity  Unit Price  \\\n",
      "0      T081F3ED5       C5101            USB Cable         2         199   \n",
      "1      TD7C89FF5       C1868       Wireless Mouse         2         499   \n",
      "2      T41467F06       C2167               Webcam         2         999   \n",
      "3      T8A0362B5       C7245  External Hard Drive         4        3499   \n",
      "4      TFFFC8428       C7775            USB Cable         3         199   \n",
      "\n",
      "   Total Price Transaction Date           Name  Age  Gender  \n",
      "0          398       16-07-2025    John Oneill   30    Male  \n",
      "1          998       12-07-2025    John Taylor   62  Female  \n",
      "2         1998       24-06-2025    Lori Murray   35    Male  \n",
      "3        13996       07-07-2025   Sonya Wilson   39  Female  \n",
      "4          597       11-07-2025  Mallory Miles   46    Male  \n"
     ]
    }
   ],
   "source": [
    "import pandas as pd\n",
    "df = pd.read_csv('mock_transaction_data.csv')\n",
    "print(\"First few rows of merged dataframe:\")\n",
    "print(df.head())\n"
   ]
  },
  {
   "cell_type": "code",
   "execution_count": 13,
   "id": "82596c18-031a-4493-b09e-4b38b1bf8d78",
   "metadata": {},
   "outputs": [
    {
     "name": "stdout",
     "output_type": "stream",
     "text": [
      "Age\n",
      "18     4\n",
      "19     6\n",
      "20    13\n",
      "21    10\n",
      "22     4\n",
      "23     5\n",
      "24     1\n",
      "25     2\n",
      "26     9\n",
      "27    18\n",
      "29     1\n",
      "30    21\n",
      "31     5\n",
      "34     6\n",
      "35    13\n",
      "36     5\n",
      "37     8\n",
      "38     3\n",
      "39     4\n",
      "41    10\n",
      "42    24\n",
      "43     1\n",
      "44     5\n",
      "45     2\n",
      "46    12\n",
      "47     4\n",
      "48    18\n",
      "49     7\n",
      "50     8\n",
      "51     5\n",
      "52    17\n",
      "53     4\n",
      "54    12\n",
      "55     4\n",
      "56    10\n",
      "57     5\n",
      "58    14\n",
      "59     1\n",
      "61     1\n",
      "62     7\n",
      "63     3\n",
      "65    14\n",
      "Name: Quantity, dtype: int64\n"
     ]
    }
   ],
   "source": [
    "# Group by Age and get total sales and quantity sold\n",
    "\n",
    "# Group by age and get count and mean of amount\n",
    "age_stats = df.groupby('Age')['Quantity'].sum()\n",
    "print(age_stats)\n"
   ]
  },
  {
   "cell_type": "code",
   "execution_count": 16,
   "id": "67f3def2-8690-4a86-a253-91f727edc037",
   "metadata": {},
   "outputs": [
    {
     "data": {
      "text/html": [
       "<div>\n",
       "<style scoped>\n",
       "    .dataframe tbody tr th:only-of-type {\n",
       "        vertical-align: middle;\n",
       "    }\n",
       "\n",
       "    .dataframe tbody tr th {\n",
       "        vertical-align: top;\n",
       "    }\n",
       "\n",
       "    .dataframe thead th {\n",
       "        text-align: right;\n",
       "    }\n",
       "</style>\n",
       "<table border=\"1\" class=\"dataframe\">\n",
       "  <thead>\n",
       "    <tr style=\"text-align: right;\">\n",
       "      <th></th>\n",
       "      <th>Quantity</th>\n",
       "      <th>Total Price</th>\n",
       "    </tr>\n",
       "    <tr>\n",
       "      <th>Gender</th>\n",
       "      <th></th>\n",
       "      <th></th>\n",
       "    </tr>\n",
       "  </thead>\n",
       "  <tbody>\n",
       "    <tr>\n",
       "      <th>Female</th>\n",
       "      <td>151</td>\n",
       "      <td>693649</td>\n",
       "    </tr>\n",
       "    <tr>\n",
       "      <th>Male</th>\n",
       "      <td>175</td>\n",
       "      <td>605925</td>\n",
       "    </tr>\n",
       "  </tbody>\n",
       "</table>\n",
       "</div>"
      ],
      "text/plain": [
       "        Quantity  Total Price\n",
       "Gender                       \n",
       "Female       151       693649\n",
       "Male         175       605925"
      ]
     },
     "execution_count": 16,
     "metadata": {},
     "output_type": "execute_result"
    }
   ],
   "source": [
    "# group by gender and get total sales and quantity sold\n",
    "\n",
    "gender_summary = df.groupby('Gender').agg({'Quantity': 'sum', 'Total Price': 'sum'})\n",
    "\n",
    "gender_summary"
   ]
  },
  {
   "cell_type": "code",
   "execution_count": 17,
   "id": "08b21d46-4193-4471-be2e-eb8960ca7627",
   "metadata": {},
   "outputs": [
    {
     "data": {
      "text/html": [
       "<div>\n",
       "<style scoped>\n",
       "    .dataframe tbody tr th:only-of-type {\n",
       "        vertical-align: middle;\n",
       "    }\n",
       "\n",
       "    .dataframe tbody tr th {\n",
       "        vertical-align: top;\n",
       "    }\n",
       "\n",
       "    .dataframe thead th {\n",
       "        text-align: right;\n",
       "    }\n",
       "</style>\n",
       "<table border=\"1\" class=\"dataframe\">\n",
       "  <thead>\n",
       "    <tr style=\"text-align: right;\">\n",
       "      <th></th>\n",
       "      <th>Transaction ID</th>\n",
       "      <th>Customer ID</th>\n",
       "      <th>Product</th>\n",
       "      <th>Quantity</th>\n",
       "      <th>Unit Price</th>\n",
       "      <th>Total Price</th>\n",
       "      <th>Transaction Date</th>\n",
       "      <th>Name</th>\n",
       "      <th>Age</th>\n",
       "      <th>Gender</th>\n",
       "    </tr>\n",
       "  </thead>\n",
       "  <tbody>\n",
       "    <tr>\n",
       "      <th>2</th>\n",
       "      <td>T41467F06</td>\n",
       "      <td>C2167</td>\n",
       "      <td>Webcam</td>\n",
       "      <td>2</td>\n",
       "      <td>999</td>\n",
       "      <td>1998</td>\n",
       "      <td>24-06-2025</td>\n",
       "      <td>Lori Murray</td>\n",
       "      <td>35</td>\n",
       "      <td>Male</td>\n",
       "    </tr>\n",
       "    <tr>\n",
       "      <th>3</th>\n",
       "      <td>T8A0362B5</td>\n",
       "      <td>C7245</td>\n",
       "      <td>External Hard Drive</td>\n",
       "      <td>4</td>\n",
       "      <td>3499</td>\n",
       "      <td>13996</td>\n",
       "      <td>07-07-2025</td>\n",
       "      <td>Sonya Wilson</td>\n",
       "      <td>39</td>\n",
       "      <td>Female</td>\n",
       "    </tr>\n",
       "    <tr>\n",
       "      <th>5</th>\n",
       "      <td>T4A713AB9</td>\n",
       "      <td>C7302</td>\n",
       "      <td>Headphones</td>\n",
       "      <td>2</td>\n",
       "      <td>1499</td>\n",
       "      <td>2998</td>\n",
       "      <td>21-06-2025</td>\n",
       "      <td>Chloe Williams PhD</td>\n",
       "      <td>34</td>\n",
       "      <td>Female</td>\n",
       "    </tr>\n",
       "    <tr>\n",
       "      <th>6</th>\n",
       "      <td>TDE867AB3</td>\n",
       "      <td>C1262</td>\n",
       "      <td>Laptop Stand</td>\n",
       "      <td>3</td>\n",
       "      <td>1299</td>\n",
       "      <td>3897</td>\n",
       "      <td>30-06-2025</td>\n",
       "      <td>Kristine Ferrell</td>\n",
       "      <td>30</td>\n",
       "      <td>Male</td>\n",
       "    </tr>\n",
       "    <tr>\n",
       "      <th>7</th>\n",
       "      <td>T07C96FA8</td>\n",
       "      <td>C9928</td>\n",
       "      <td>External Hard Drive</td>\n",
       "      <td>1</td>\n",
       "      <td>3499</td>\n",
       "      <td>3499</td>\n",
       "      <td>27-06-2025</td>\n",
       "      <td>Steve Clements</td>\n",
       "      <td>52</td>\n",
       "      <td>Female</td>\n",
       "    </tr>\n",
       "    <tr>\n",
       "      <th>...</th>\n",
       "      <td>...</td>\n",
       "      <td>...</td>\n",
       "      <td>...</td>\n",
       "      <td>...</td>\n",
       "      <td>...</td>\n",
       "      <td>...</td>\n",
       "      <td>...</td>\n",
       "      <td>...</td>\n",
       "      <td>...</td>\n",
       "      <td>...</td>\n",
       "    </tr>\n",
       "    <tr>\n",
       "      <th>95</th>\n",
       "      <td>TC46DC8CF</td>\n",
       "      <td>C5463</td>\n",
       "      <td>Keyboard</td>\n",
       "      <td>5</td>\n",
       "      <td>799</td>\n",
       "      <td>3995</td>\n",
       "      <td>19-06-2025</td>\n",
       "      <td>Shaun Baldwin</td>\n",
       "      <td>35</td>\n",
       "      <td>Male</td>\n",
       "    </tr>\n",
       "    <tr>\n",
       "      <th>96</th>\n",
       "      <td>T60B18E7B</td>\n",
       "      <td>C5206</td>\n",
       "      <td>Keyboard</td>\n",
       "      <td>2</td>\n",
       "      <td>799</td>\n",
       "      <td>1598</td>\n",
       "      <td>02-07-2025</td>\n",
       "      <td>Chris Parsons</td>\n",
       "      <td>49</td>\n",
       "      <td>Male</td>\n",
       "    </tr>\n",
       "    <tr>\n",
       "      <th>97</th>\n",
       "      <td>TAB45ED90</td>\n",
       "      <td>C3789</td>\n",
       "      <td>Wireless Mouse</td>\n",
       "      <td>4</td>\n",
       "      <td>499</td>\n",
       "      <td>1996</td>\n",
       "      <td>16-07-2025</td>\n",
       "      <td>Carolyn Mann</td>\n",
       "      <td>20</td>\n",
       "      <td>Female</td>\n",
       "    </tr>\n",
       "    <tr>\n",
       "      <th>98</th>\n",
       "      <td>TE71A014D</td>\n",
       "      <td>C4261</td>\n",
       "      <td>Smartphone</td>\n",
       "      <td>4</td>\n",
       "      <td>15999</td>\n",
       "      <td>63996</td>\n",
       "      <td>14-07-2025</td>\n",
       "      <td>Elizabeth Mills</td>\n",
       "      <td>46</td>\n",
       "      <td>Male</td>\n",
       "    </tr>\n",
       "    <tr>\n",
       "      <th>99</th>\n",
       "      <td>TE48D77CC</td>\n",
       "      <td>C9012</td>\n",
       "      <td>Smartphone</td>\n",
       "      <td>2</td>\n",
       "      <td>15999</td>\n",
       "      <td>31998</td>\n",
       "      <td>07-07-2025</td>\n",
       "      <td>Eric Reyes</td>\n",
       "      <td>38</td>\n",
       "      <td>Female</td>\n",
       "    </tr>\n",
       "  </tbody>\n",
       "</table>\n",
       "<p>88 rows × 10 columns</p>\n",
       "</div>"
      ],
      "text/plain": [
       "   Transaction ID Customer ID              Product  Quantity  Unit Price  \\\n",
       "2       T41467F06       C2167               Webcam         2         999   \n",
       "3       T8A0362B5       C7245  External Hard Drive         4        3499   \n",
       "5       T4A713AB9       C7302           Headphones         2        1499   \n",
       "6       TDE867AB3       C1262         Laptop Stand         3        1299   \n",
       "7       T07C96FA8       C9928  External Hard Drive         1        3499   \n",
       "..            ...         ...                  ...       ...         ...   \n",
       "95      TC46DC8CF       C5463             Keyboard         5         799   \n",
       "96      T60B18E7B       C5206             Keyboard         2         799   \n",
       "97      TAB45ED90       C3789       Wireless Mouse         4         499   \n",
       "98      TE71A014D       C4261           Smartphone         4       15999   \n",
       "99      TE48D77CC       C9012           Smartphone         2       15999   \n",
       "\n",
       "    Total Price Transaction Date                Name  Age  Gender  \n",
       "2          1998       24-06-2025         Lori Murray   35    Male  \n",
       "3         13996       07-07-2025        Sonya Wilson   39  Female  \n",
       "5          2998       21-06-2025  Chloe Williams PhD   34  Female  \n",
       "6          3897       30-06-2025    Kristine Ferrell   30    Male  \n",
       "7          3499       27-06-2025      Steve Clements   52  Female  \n",
       "..          ...              ...                 ...  ...     ...  \n",
       "95         3995       19-06-2025       Shaun Baldwin   35    Male  \n",
       "96         1598       02-07-2025       Chris Parsons   49    Male  \n",
       "97         1996       16-07-2025        Carolyn Mann   20  Female  \n",
       "98        63996       14-07-2025     Elizabeth Mills   46    Male  \n",
       "99        31998       07-07-2025          Eric Reyes   38  Female  \n",
       "\n",
       "[88 rows x 10 columns]"
      ]
     },
     "execution_count": 17,
     "metadata": {},
     "output_type": "execute_result"
    }
   ],
   "source": [
    "high_value_transaction = df[df['Total Price'] > 1000]\n",
    "high_value_transaction"
   ]
  },
  {
   "cell_type": "code",
   "execution_count": 6,
   "id": "e9bb681f-970e-47ff-b065-26c669cd3044",
   "metadata": {},
   "outputs": [
    {
     "data": {
      "text/plain": [
       "<Axes: title={'center': 'Total Sales by Gender'}, xlabel='Gender'>"
      ]
     },
     "execution_count": 6,
     "metadata": {},
     "output_type": "execute_result"
    },
    {
     "data": {
      "image/png": "[encoded data removed]",
      "text/plain": [
       "<Figure size 800x400 with 1 Axes>"
      ]
     },
     "metadata": {},
     "output_type": "display_data"
    }
   ],
   "source": [
    "import pandas as pd\n",
    "\n",
    "# Load your CSV file\n",
    "df = pd.read_csv('mock_transaction_data.csv') \n",
    "\n",
    "# Then group by gender and plot\n",
    "gender_summary = df.groupby('Gender')['Total Price'].sum()\n",
    "gender_summary.plot(kind='bar', figsize=(8, 4), title='Total Sales by Gender', color='lightgreen')\n",
    "\n"
   ]
  },
  {
   "cell_type": "code",
   "execution_count": 9,
   "id": "f8f7a52c-896a-4deb-88a9-6bb9ba2a964c",
   "metadata": {},
   "outputs": [
    {
     "data": {
      "text/plain": [
       "<Axes: title={'center': 'Total Sales by Gender'}, xlabel='Quantity'>"
      ]
     },
     "execution_count": 9,
     "metadata": {},
     "output_type": "execute_result"
    },
    {
     "data": {
      "image/png": "[encoded data removed]",
      "text/plain": [
       "<Figure size 800x400 with 1 Axes>"
      ]
     },
     "metadata": {},
     "output_type": "display_data"
    }
   ],
   "source": [
    "gender_summary = df.groupby('Quantity')['Total Price'].sum()\n",
    "gender_summary.plot(kind='bar', figsize=(8, 4), title='Total Sales by Gender', color='blue')\n"
   ]
  },
  {
   "cell_type": "code",
   "execution_count": null,
   "id": "352a8a0f-f799-40f0-b84c-1088f793f77d",
   "metadata": {},
   "outputs": [],
   "source": []
  }
 ],
 "metadata": {
  "kernelspec": {
   "display_name": "Python [conda env:base] *",
   "language": "python",
   "name": "conda-base-py"
  },
  "language_info": {
   "codemirror_mode": {
    "name": "ipython",
    "version": 3
   },
   "file_extension": ".py",
   "mimetype": "text/x-python",
   "name": "python",
   "nbconvert_exporter": "python",
   "pygments_lexer": "ipython3",
   "version": "3.13.5"
  }
 },
 "nbformat": 4,
 "nbformat_minor": 5
}
