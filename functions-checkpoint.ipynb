{
 "cells": [
  {
   "cell_type": "code",
   "execution_count": 7,
   "id": "b2d08bf5-eba1-481f-a1ce-1287543b3a2d",
   "metadata": {},
   "outputs": [],
   "source": [
    "# functions udf\n",
    "\n",
    "# Greet \n",
    "\n",
    "def greet():\n",
    "    print(\"Hi Welcome to the session\")"  
   ]
  },
  {
   "cell_type": "code",
   "execution_count": 8,
   "id": "991725b4-87a1-49ea-9bf2-fa5056faee93",
   "metadata": {},
   "outputs": [
    {
     "name": "stdout",
     "output_type": "stream",
     "text": [
      "Hi Welcome to the session\n"
     ]
    }
   ],
   "source": [
    "# calling a function\n",
    "\n",
    "greet()"
   ]
  },
  {
   "cell_type": "code",
   "execution_count": 9,
   "id": "34f52de2-c402-4de7-9172-27ad98b3750c",
   "metadata": {},
   "outputs": [],
   "source": [
    "# Function with parameters\n",
    "\n",
    "# multiply two numbers\n",
    "\n",
    "def multiply(x , y):\n",
    "    return x*y"
   ]
  },
  {
   "cell_type": "code",
   "execution_count": 10,
   "id": "bf469ced-0f29-416b-ae08-be000a5f2255",
   "metadata": {},
   "outputs": [
    {
     "data": {
      "text/plain": [
       "6"
      ]
     },
     "execution_count": 10,
     "metadata": {},
     "output_type": "execute_result"
    }
   ],
   "source": [
    "multiply(2 , 3)"
   ]
  },
  {
   "cell_type": "code",
   "execution_count": 11,
   "id": "6fdd2940-ee55-4747-a6a5-c7e6a4cbb524",
   "metadata": {},
   "outputs": [],
   "source": [
    "# args variable number arguments\n",
    "def multiply(x , y , z):\n",
    "    return x*y*z"
   ]
  },
  {
   "cell_type": "code",
   "execution_count": 12,
   "id": "3eb0e513-f937-45be-913b-388c6036c086",
   "metadata": {},
   "outputs": [
    {
     "data": {
      "text/plain": [
       "24"
      ]
     },
     "execution_count": 12,
     "metadata": {},
     "output_type": "execute_result"
    }
   ],
   "source": [
    "multiply(2, 3, 4)"
   ]
  },
  {
   "cell_type": "code",
   "execution_count": 21,
   "id": "50f8605c-c841-4d69-92f0-21909879c3c2",
   "metadata": {},
   "outputs": [],
   "source": [
    "def multiply(*numbers):\n",
    "    total = 1\n",
    "    for number in numbers:\n",
    "        total *= number\n",
    "    return total"
   ]
  },
  {
   "cell_type": "code",
   "execution_count": 22,
   "id": "7e1d12f5-05a4-47e6-b1f9-fc67eb4f9bfe",
   "metadata": {},
   "outputs": [
    {
     "data": {
      "text/plain": [
       "720"
      ]
     },
     "execution_count": 22,
     "metadata": {},
     "output_type": "execute_result"
    }
   ],
   "source": [
    "multiply(2,3,4,5,6)"
   ]
  },
  {
   "cell_type": "code",
   "execution_count": 23,
   "id": "1ef287ef-e554-4717-b98d-84e07305b751",
   "metadata": {},
   "outputs": [
    {
     "data": {
      "text/plain": [
       "2500"
      ]
     },
     "execution_count": 23,
     "metadata": {},
     "output_type": "execute_result"
    }
   ],
   "source": [
    "# lambda function \n",
    "\n",
    "# lambda parameters : expression \n",
    "\n",
    "square = lambda x : x ** 2\n",
    "\n",
    "square(50)"
   ]
  },
  {
   "cell_type": "code",
   "execution_count": 24,
   "id": "a53e7ce4-0a33-4e33-8286-0820a14a10e0",
   "metadata": {},
   "outputs": [
    {
     "data": {
      "text/plain": [
       "[('Nitesh', 'Kumar'), ('Priyank', 'Shukla')]"
      ]
     },
     "execution_count": 24,
     "metadata": {},
     "output_type": "execute_result"
    }
   ],
   "source": [
    "# Zip function \n",
    "\n",
    "first_names = [\"Nitesh\", \"Priyank\"]\n",
    "\n",
    "last_names = [\"Kumar\" , \"Shukla\"]\n",
    "\n",
    "full_names = list(zip(first_names, last_names))\n",
    "\n",
    "full_names"
   ]
  },
  {
   "cell_type": "code",
   "execution_count": 26,
   "id": "9492c78f-d32f-40fa-83cb-a57de5f383ae",
   "metadata": {},
   "outputs": [
    {
     "data": {
      "text/plain": [
       "[4, 9, 16, 25]"
      ]
     },
     "execution_count": 26,
     "metadata": {},
     "output_type": "execute_result"
    }
   ],
   "source": [
    "# Map function \n",
    "\n",
    "def square(x):\n",
    "    return x**2\n",
    "\n",
    "numbers = [2,3,4,5]\n",
    "\n",
    "squared_numbers =list(map(square, numbers))\n",
    "\n",
    "squared_numbers"
   ]
  },
  {
   "cell_type": "code",
   "execution_count": 31,
   "id": "b24af8ae-7085-4570-943f-3921345feb50",
   "metadata": {},
   "outputs": [],
   "source": [
    "# claass\n",
    "\n",
    "class Human:\n",
    "    def __init__(self, name , age):\n",
    "        self.name = name\n",
    "        self.age = age\n",
    "\n",
    "    def walk(self):\n",
    "        print(f\"{self.name} is walking\")\n",
    "\n",
    "    def talk(self):\n",
    "        print(f\"{self.name} is talking\")"
   ]
  },
  {
   "cell_type": "code",
   "execution_count": 33,
   "id": "7bef33ce-02b5-44e6-8e6f-fbdc180a526d",
   "metadata": {},
   "outputs": [
    {
     "name": "stdout",
     "output_type": "stream",
     "text": [
      "nitesh is walking\n"
     ]
    }
   ],
   "source": [
    "h1 = Human(\"nitesh\", 20)\n",
    "\n",
    "h1.walk()"
   ]
  },
  {
   "cell_type": "code",
   "execution_count": 34,
   "id": "e6adc391-e2e3-4b98-83af-0fcc96afa55a",
   "metadata": {},
   "outputs": [
    {
     "name": "stdout",
     "output_type": "stream",
     "text": [
      "nitesh is talking\n"
     ]
    }
   ],
   "source": [
    "h1 = Human(\"nitesh\", 20)\n",
    "\n",
    "h1.talk()"
   ]
  },
  {
   "cell_type": "code",
   "execution_count": null,
   "id": "298916eb-fd33-43cc-a36d-e9557ed2a855",
   "metadata": {},
   "outputs": [],
   "source": []
  }
 ],
 "metadata": {
  "kernelspec": {
   "display_name": "Python [conda env:base] *",
   "language": "python",
   "name": "conda-base-py"
  },
  "language_info": {
   "codemirror_mode": {
    "name": "ipython",
    "version": 3
   },
   "file_extension": ".py",
   "mimetype": "text/x-python",
   "name": "python",
   "nbconvert_exporter": "python",
   "pygments_lexer": "ipython3",
   "version": "3.13.5"
  }
 },
 "nbformat": 4,
 "nbformat_minor": 5
}
