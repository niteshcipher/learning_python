{
 "cells": [
  {
   "cell_type": "code",
   "execution_count": 1,
   "id": "13111c69-dfa0-402e-955f-a17f7aa021eb",
   "metadata": {},
   "outputs": [
    {
     "name": "stdout",
     "output_type": "stream",
     "text": [
      "Hello world\n"
     ]
    }
   ],
   "source": [
    "# Basic syntax in python\n",
    "\n",
    "print(\"Hello world\")"
   ]
  },
  {
   "cell_type": "code",
   "execution_count": 3,
   "id": "f2ff20e3-dc43-4296-ac68-872f3c5acec9",
   "metadata": {},
   "outputs": [],
   "source": [
    "# Intendation\n",
    "\n",
    "def greet(name):\n",
    "    print(f\"Hello\" , {name})"
   ]
  },
  {
   "cell_type": "code",
   "execution_count": 4,
   "id": "21fdc7b8-4aa5-4394-9c71-9439212d5560",
   "metadata": {},
   "outputs": [],
   "source": [
    "# variable \n",
    "\n",
    "first_name = \"Nitesh\"\n",
    "last_name = \"kumar\"\n",
    "age = 20"
   ]
  },
  {
   "cell_type": "code",
   "execution_count": 5,
   "id": "14abca0f-0eb3-4301-85dc-e46de0ca1fe3",
   "metadata": {},
   "outputs": [
    {
     "name": "stdout",
     "output_type": "stream",
     "text": [
      "Nitesh\n",
      "kumar\n",
      "20\n"
     ]
    }
   ],
   "source": [
    "print(first_name)\n",
    "print(last_name)\n",
    "print(age)"
   ]
  },
  {
   "cell_type": "code",
   "execution_count": 7,
   "id": "bd23c0d2-8781-436c-aebb-bdb8ea516321",
   "metadata": {},
   "outputs": [],
   "source": [
    "#Basic data types\n",
    "\n",
    "first_name = \"nitesh\"\n",
    "last_name = \"kumar\"\n",
    "age = 20\n",
    "weight = 62.5\n",
    "isMarried = False"
   ]
  },
  {
   "cell_type": "code",
   "execution_count": 8,
   "id": "56371057-e722-4521-b320-194070688098",
   "metadata": {},
   "outputs": [
    {
     "name": "stdout",
     "output_type": "stream",
     "text": [
      "20\n"
     ]
    }
   ],
   "source": [
    "print(age)"
   ]
  },
  {
   "cell_type": "code",
   "execution_count": 10,
   "id": "e319813b-45ac-4eab-b0fd-239b6f0bb920",
   "metadata": {},
   "outputs": [
    {
     "name": "stdout",
     "output_type": "stream",
     "text": [
      "False\n"
     ]
    }
   ],
   "source": [
    "print(isMarried)"
   ]
  },
  {
   "cell_type": "code",
   "execution_count": 11,
   "id": "94bc2b70-8251-498b-bb53-1b7fb7277612",
   "metadata": {},
   "outputs": [
    {
     "data": {
      "text/plain": [
       "int"
      ]
     },
     "execution_count": 11,
     "metadata": {},
     "output_type": "execute_result"
    }
   ],
   "source": [
    "type(age)"
   ]
  },
  {
   "cell_type": "code",
   "execution_count": 12,
   "id": "f4cd638f-cf2c-4d6f-83a3-9b77e78cfd79",
   "metadata": {},
   "outputs": [
    {
     "name": "stdout",
     "output_type": "stream",
     "text": [
      "<class 'int'>\n"
     ]
    }
   ],
   "source": [
    "print(type(age))"
   ]
  },
  {
   "cell_type": "code",
   "execution_count": 15,
   "id": "e75f77c2-723b-4afb-b2f0-3245422566aa",
   "metadata": {},
   "outputs": [
    {
     "name": "stdout",
     "output_type": "stream",
     "text": [
      "13\n",
      "7\n",
      "30\n",
      "3.3333333333333335\n",
      "3\n",
      "1000\n"
     ]
    }
   ],
   "source": [
    "# Arithmetic operators\n",
    "\n",
    "a = 10\n",
    "b = 3\n",
    "\n",
    "print (a + b)\n",
    "print (a - b)\n",
    "print (a * b)\n",
    "print (a / b)  \n",
    "print (a // b) # floor\n",
    "print (a ** b) # Exp"
   ]
  },
  {
   "cell_type": "code",
   "execution_count": 16,
   "id": "fbf050a7-b0d8-49b2-b758-fb8001106db7",
   "metadata": {},
   "outputs": [
    {
     "name": "stdout",
     "output_type": "stream",
     "text": [
      "False\n",
      "True\n",
      "False\n"
     ]
    }
   ],
   "source": [
    "# Logical Operators\n",
    "\n",
    "a = True\n",
    "b = False\n",
    "\n",
    "print ( a and b)\n",
    "print ( a or b)\n",
    "print (not a)"
   ]
  },
  {
   "cell_type": "code",
   "execution_count": 19,
   "id": "feea8f11-3adb-4da6-baf7-1a0afff5f9bd",
   "metadata": {},
   "outputs": [
    {
     "name": "stdout",
     "output_type": "stream",
     "text": [
      "True\n",
      "False\n",
      "False\n",
      "True\n"
     ]
    }
   ],
   "source": [
    "# Comparision operators\n",
    "\n",
    "a = 10\n",
    "b = 5\n",
    "\n",
    "print( a > b)\n",
    "print ( a == b)\n",
    "print ( a < b)\n",
    "print ( a != b)"
   ]
  },
  {
   "cell_type": "code",
   "execution_count": 20,
   "id": "801ffced-c6b7-459d-8f60-909ecb938fdb",
   "metadata": {},
   "outputs": [
    {
     "name": "stdout",
     "output_type": "stream",
     "text": [
      "6\n"
     ]
    }
   ],
   "source": [
    "# Assignment operators \n",
    "\n",
    "a = 5\n",
    "\n",
    "a = a+1\n",
    "\n",
    "print(a)"
   ]
  },
  {
   "cell_type": "code",
   "execution_count": 21,
   "id": "5a72382b-bca9-44ad-abff-4db8d9eb9792",
   "metadata": {},
   "outputs": [
    {
     "name": "stdout",
     "output_type": "stream",
     "text": [
      "6\n"
     ]
    }
   ],
   "source": [
    "a = 5\n",
    "\n",
    "a += 1\n",
    "\n",
    "print(a)"
   ]
  },
  {
   "cell_type": "code",
   "execution_count": 25,
   "id": "cba8bd47-9f5d-4e80-b8f2-1373d51c781f",
   "metadata": {},
   "outputs": [],
   "source": [
    "# list in python\n",
    "\n",
    "empty_list =[]\n",
    "\n",
    "# fruits list \n",
    "\n",
    "fruits = [\"apple\" , \"banana\" , \"mango\"]\n",
    "\n",
    "friends = [\"Aditya\" , \"Arsh\" , \"Shubham\"]\n",
    "\n",
    "numbers = [ 1, 2, 3, 4, 5]\n",
    "\n",
    "booleans = [ True, False]\n",
    "\n",
    "mix = [ \"apple\" , 24 , True ]"
   ]
  },
  {
   "cell_type": "code",
   "execution_count": 26,
   "id": "336edae7-38e3-481e-b2d6-efc882774f80",
   "metadata": {},
   "outputs": [
    {
     "data": {
      "text/plain": [
       "['apple', 24, True]"
      ]
     },
     "execution_count": 26,
     "metadata": {},
     "output_type": "execute_result"
    }
   ],
   "source": [
    "mix"
   ]
  },
  {
   "cell_type": "code",
   "execution_count": 27,
   "id": "5e74167a-f28b-45dc-82f4-523ddf250717",
   "metadata": {},
   "outputs": [
    {
     "data": {
      "text/plain": [
       "'Aditya'"
      ]
     },
     "execution_count": 27,
     "metadata": {},
     "output_type": "execute_result"
    }
   ],
   "source": [
    "# Access the items of the list\n",
    "\n",
    "friends[0]"
   ]
  },
  {
   "cell_type": "code",
   "execution_count": 29,
   "id": "97ac4257-c0d9-4caf-b129-c3515145e08e",
   "metadata": {},
   "outputs": [
    {
     "data": {
      "text/plain": [
       "['Aditya', 'Arsh']"
      ]
     },
     "execution_count": 29,
     "metadata": {},
     "output_type": "execute_result"
    }
   ],
   "source": [
    "# slicing the list \n",
    "\n",
    "friends[0:2]"
   ]
  },
  {
   "cell_type": "code",
   "execution_count": 30,
   "id": "7aa1abae-b119-4329-bb68-6d3541eaa5c0",
   "metadata": {},
   "outputs": [
    {
     "data": {
      "text/plain": [
       "['Aditya', 'Arsh']"
      ]
     },
     "execution_count": 30,
     "metadata": {},
     "output_type": "execute_result"
    }
   ],
   "source": [
    "friends[:2]"
   ]
  },
  {
   "cell_type": "code",
   "execution_count": 31,
   "id": "935d92d3-e3b8-4a69-b4ca-e149c9a7d07e",
   "metadata": {},
   "outputs": [
    {
     "data": {
      "text/plain": [
       "['Aditya', 'Arsh', 'Shubham']"
      ]
     },
     "execution_count": 31,
     "metadata": {},
     "output_type": "execute_result"
    }
   ],
   "source": [
    "friends[0:]"
   ]
  },
  {
   "cell_type": "code",
   "execution_count": 32,
   "id": "b828a810-8b4a-4b3f-9ffa-764d41d83398",
   "metadata": {},
   "outputs": [
    {
     "data": {
      "text/plain": [
       "['Aditya', 'Arsh', 'Shubham', 'Rajan']"
      ]
     },
     "execution_count": 32,
     "metadata": {},
     "output_type": "execute_result"
    }
   ],
   "source": [
    "# methods \n",
    "\n",
    "friends.append(\"Rajan\") # add at the end of the list\n",
    "\n",
    "friends"
   ]
  },
  {
   "cell_type": "code",
   "execution_count": 33,
   "id": "b9d9aba1-fc8a-4ecc-bfa7-bc5d68283f14",
   "metadata": {},
   "outputs": [
    {
     "data": {
      "text/plain": [
       "['Aditya', 'Nitesh', 'Arsh', 'Shubham', 'Rajan']"
      ]
     },
     "execution_count": 33,
     "metadata": {},
     "output_type": "execute_result"
    }
   ],
   "source": [
    "friends.insert(1,\"Nitesh\")\n",
    "\n",
    "friends"
   ]
  },
  {
   "cell_type": "code",
   "execution_count": 34,
   "id": "e9341a7c-740f-4cbb-aa88-db3535040682",
   "metadata": {},
   "outputs": [
    {
     "data": {
      "text/plain": [
       "['Aditya', 'Nitesh', 'Shubham', 'Rajan']"
      ]
     },
     "execution_count": 34,
     "metadata": {},
     "output_type": "execute_result"
    }
   ],
   "source": [
    "friends.remove(\"Arsh\")\n",
    "\n",
    "friends"
   ]
  },
  {
   "cell_type": "code",
   "execution_count": 36,
   "id": "846dd502-b0be-427a-9ed9-373bcd677f67",
   "metadata": {},
   "outputs": [
    {
     "data": {
      "text/plain": [
       "['Aditya', 'Nitesh']"
      ]
     },
     "execution_count": 36,
     "metadata": {},
     "output_type": "execute_result"
    }
   ],
   "source": [
    "friends.pop () # remove last\n",
    "\n",
    "friends"
   ]
  },
  {
   "cell_type": "code",
   "execution_count": 38,
   "id": "a7fc1168-9e52-4109-b2d0-ba47350e0e7d",
   "metadata": {},
   "outputs": [],
   "source": [
    "# creating a tuple\n",
    "\n",
    "empty_tuple = ()\n",
    "\n",
    "# Fruits\n",
    "\n",
    "fruits = (\"apple\" , \"banana\" , \"mango\")\n",
    "\n",
    "numbers = (1, 2, 3, 4 )\n",
    "\n",
    "mix = (\"apple\", 23 , 34.5, True)\n",
    "\n",
    "name = \"Nitesh\""
   ]
  },
  {
   "cell_type": "code",
   "execution_count": 39,
   "id": "9fc5c751-dafd-4ab1-93aa-932f159830e5",
   "metadata": {},
   "outputs": [
    {
     "data": {
      "text/plain": [
       "str"
      ]
     },
     "execution_count": 39,
     "metadata": {},
     "output_type": "execute_result"
    }
   ],
   "source": [
    "type(name)"
   ]
  },
  {
   "cell_type": "code",
   "execution_count": 40,
   "id": "d3c86d16-2737-4deb-94c5-09cbf93dd2c0",
   "metadata": {},
   "outputs": [
    {
     "data": {
      "text/plain": [
       "tuple"
      ]
     },
     "execution_count": 40,
     "metadata": {},
     "output_type": "execute_result"
    }
   ],
   "source": [
    "type(numbers)"
   ]
  },
  {
   "cell_type": "code",
   "execution_count": 41,
   "id": "41f8c4da-d4f0-4201-9b33-a726eea101cb",
   "metadata": {},
   "outputs": [
    {
     "data": {
      "text/plain": [
       "'banana'"
      ]
     },
     "execution_count": 41,
     "metadata": {},
     "output_type": "execute_result"
    }
   ],
   "source": [
    "fruits[1]"
   ]
  },
  {
   "cell_type": "code",
   "execution_count": 42,
   "id": "3fd58024-852a-44a1-a999-e74f1371ff7d",
   "metadata": {
    "scrolled": true
   },
   "outputs": [
    {
     "ename": "TypeError",
     "evalue": "'tuple' object does not support item assignment",
     "output_type": "error",
     "traceback": [
      "\u001b[1;31m---------------------------------------------------------------------------\u001b[0m",
      "\u001b[1;31mTypeError\u001b[0m                                 Traceback (most recent call last)",
      "Cell \u001b[1;32mIn[42], line 1\u001b[0m\n\u001b[1;32m----> 1\u001b[0m fruits[\u001b[38;5;241m1\u001b[39m] \u001b[38;5;241m=\u001b[39m \u001b[38;5;124m\"\u001b[39m\u001b[38;5;124mpapaya\u001b[39m\u001b[38;5;124m\"\u001b[39m\n",
      "\u001b[1;31mTypeError\u001b[0m: 'tuple' object does not support item assignment"
     ]
    }
   ],
   "source": [
    "fruits[1] = \"papaya\" # it will not change coz tuple doesnt allow "
   ]
  },
  {
   "cell_type": "code",
   "execution_count": null,
   "id": "1c37e111-2f22-406e-a91e-8afbc1ba66fb",
   "metadata": {},
   "outputs": [],
   "source": []
  }
 ],
 "metadata": {
  "kernelspec": {
   "display_name": "Python [conda env:base] *",
   "language": "python",
   "name": "conda-base-py"
  },
  "language_info": {
   "codemirror_mode": {
    "name": "ipython",
    "version": 3
   },
   "file_extension": ".py",
   "mimetype": "text/x-python",
   "name": "python",
   "nbconvert_exporter": "python",
   "pygments_lexer": "ipython3",
   "version": "3.13.5"
  }
 },
 "nbformat": 4,
 "nbformat_minor": 5
}
